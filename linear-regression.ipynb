{
 "cells": [
  {
   "attachments": {},
   "cell_type": "markdown",
   "id": "054b38a6-32c1-4603-8b22-b089cc9d76b7",
   "metadata": {},
   "source": [
    "# Описание и пример простейшей реализации алгоритма линейной регрессии"
   ]
  },
  {
   "attachments": {},
   "cell_type": "markdown",
   "id": "8f090fd5-ae86-4776-bb10-7a491b52b46a",
   "metadata": {},
   "source": [
    "Регрессия (приближение к среднему) - это способ выбрать из семейства функций ту, которая минимизирует функцию потерь. Функция потерь или лосс функцция (калька с английского) характеризует насколько пробная функция отклоняется от значений в заданных точках.\n",
    "Линейную регрессия называют линейной не из-за вида базисной функции (первая степень), а из-за того, что функции из которых мы выбираем, представляют собой линейную комбинацию (сумму с коэффициентами) наперед заданных базисных функций $f{i}$. Например, x1 + x2^2. Сумма базисных функций х1 и x2^2 - линейная комбинация.\n",
    "\n",
    "f = $\\sum_{i}w{i}f{i}$\n",
    "\n"
   ]
  },
  {
   "attachments": {},
   "cell_type": "markdown",
   "id": "d4553da0",
   "metadata": {},
   "source": [
    "### Функция потерь\n",
    "Для промежуточной оценки модели в процессе работы алгоритма берут сумму расстояний от заданных точек до кривой (прямой) пробной функции или зависящие от этих расстояний величины. Сумма модулей отклонений $\\sum_i |f(x_i) - y_i|$ или Least Absolute Distance (LAD) регрессия.\n",
    "Одной из популярных лосс функциий стала сумма квадаратов отклонений регрессанта от модели или Sum of Squared Errors (SSE). Производная квадратичной лосс функции линейная и непрерывная, поэтому легко ищется. Минус суммы квадратов отклонений - при увеличении количества аргументов (фичей) Сумма квадратов отклонений очень быстро возрастает. Поэтому её делят на количество фичей и получают среднеквадратичную ошибку _MSE_:"
   ]
  },
  {
   "attachments": {},
   "cell_type": "markdown",
   "id": "be90085e-30fa-48f9-a661-a137cbbe09ec",
   "metadata": {},
   "source": [
    "MSE = $\\dfrac{1}{N} \\sum_{i=1}^{N}(y_{act} - y_{pred})^2 = \\dfrac{1}{N} \\sum_{i=1}^{N}(y_{act} - (\\omega_0 + x_{i1} \\cdot \\omega_1 + x_{i2} \\cdot \\omega_2 + ... + x_{in} \\cdot \\omega_n))^2$"
   ]
  },
  {
   "attachments": {},
   "cell_type": "markdown",
   "id": "4dca6be5",
   "metadata": {},
   "source": [
    "\n",
    "### Простейшая реализация класса линейной регрессии\n",
    "\n",
    "Ниже реализован простейший класс Линейной регрессии.  \n",
    "\n",
    "на _train_ выборке алгоритму необходиму обучиться, на _test_ выборке проверить свой результат. Метрика для проверки результата для линейной регрессии - _MSE_, . Метрики реализовать внутри класса.\n",
    "\n",
    "В качестве функции потерь, необходимо выбрать _MSE_ - для линейной регрессии. \n",
    "\n",
    "После можно сравнить свой результат со стандартной Линейной регрессией, реализованной в _sklearn_"
   ]
  },
  {
   "cell_type": "code",
   "execution_count": 2,
   "id": "cfd457f1-36cf-473a-b711-a59c124ea7d0",
   "metadata": {},
   "outputs": [],
   "source": [
    "import pandas as pd\n",
    "import numpy as np"
   ]
  },
  {
   "cell_type": "code",
   "execution_count": 3,
   "id": "7323242a-3e99-4553-9504-df018c021237",
   "metadata": {},
   "outputs": [
    {
     "data": {
      "text/html": [
       "<div>\n",
       "<style scoped>\n",
       "    .dataframe tbody tr th:only-of-type {\n",
       "        vertical-align: middle;\n",
       "    }\n",
       "\n",
       "    .dataframe tbody tr th {\n",
       "        vertical-align: top;\n",
       "    }\n",
       "\n",
       "    .dataframe thead th {\n",
       "        text-align: right;\n",
       "    }\n",
       "</style>\n",
       "<table border=\"1\" class=\"dataframe\">\n",
       "  <thead>\n",
       "    <tr style=\"text-align: right;\">\n",
       "      <th></th>\n",
       "      <th>x1</th>\n",
       "      <th>x2</th>\n",
       "      <th>x3</th>\n",
       "      <th>y</th>\n",
       "    </tr>\n",
       "  </thead>\n",
       "  <tbody>\n",
       "    <tr>\n",
       "      <th>0</th>\n",
       "      <td>27.706438</td>\n",
       "      <td>23.195254</td>\n",
       "      <td>16.552800</td>\n",
       "      <td>16.731168</td>\n",
       "    </tr>\n",
       "    <tr>\n",
       "      <th>1</th>\n",
       "      <td>11.606632</td>\n",
       "      <td>19.186824</td>\n",
       "      <td>1.819811</td>\n",
       "      <td>40.515215</td>\n",
       "    </tr>\n",
       "    <tr>\n",
       "      <th>2</th>\n",
       "      <td>12.096257</td>\n",
       "      <td>13.350714</td>\n",
       "      <td>10.882195</td>\n",
       "      <td>-11.999238</td>\n",
       "    </tr>\n",
       "    <tr>\n",
       "      <th>3</th>\n",
       "      <td>14.172638</td>\n",
       "      <td>19.603994</td>\n",
       "      <td>7.730774</td>\n",
       "      <td>9.645480</td>\n",
       "    </tr>\n",
       "    <tr>\n",
       "      <th>4</th>\n",
       "      <td>15.984409</td>\n",
       "      <td>9.527360</td>\n",
       "      <td>3.449821</td>\n",
       "      <td>22.803054</td>\n",
       "    </tr>\n",
       "    <tr>\n",
       "      <th>...</th>\n",
       "      <td>...</td>\n",
       "      <td>...</td>\n",
       "      <td>...</td>\n",
       "      <td>...</td>\n",
       "    </tr>\n",
       "    <tr>\n",
       "      <th>195</th>\n",
       "      <td>14.356981</td>\n",
       "      <td>19.287363</td>\n",
       "      <td>7.788886</td>\n",
       "      <td>35.289736</td>\n",
       "    </tr>\n",
       "    <tr>\n",
       "      <th>196</th>\n",
       "      <td>25.727621</td>\n",
       "      <td>28.236211</td>\n",
       "      <td>9.571604</td>\n",
       "      <td>57.570480</td>\n",
       "    </tr>\n",
       "    <tr>\n",
       "      <th>197</th>\n",
       "      <td>13.434383</td>\n",
       "      <td>24.280476</td>\n",
       "      <td>4.162805</td>\n",
       "      <td>40.580514</td>\n",
       "    </tr>\n",
       "    <tr>\n",
       "      <th>198</th>\n",
       "      <td>13.973079</td>\n",
       "      <td>6.634176</td>\n",
       "      <td>1.918399</td>\n",
       "      <td>20.631645</td>\n",
       "    </tr>\n",
       "    <tr>\n",
       "      <th>199</th>\n",
       "      <td>18.004648</td>\n",
       "      <td>15.936820</td>\n",
       "      <td>6.597684</td>\n",
       "      <td>29.641836</td>\n",
       "    </tr>\n",
       "  </tbody>\n",
       "</table>\n",
       "<p>200 rows × 4 columns</p>\n",
       "</div>"
      ],
      "text/plain": [
       "            x1         x2         x3          y\n",
       "0    27.706438  23.195254  16.552800  16.731168\n",
       "1    11.606632  19.186824   1.819811  40.515215\n",
       "2    12.096257  13.350714  10.882195 -11.999238\n",
       "3    14.172638  19.603994   7.730774   9.645480\n",
       "4    15.984409   9.527360   3.449821  22.803054\n",
       "..         ...        ...        ...        ...\n",
       "195  14.356981  19.287363   7.788886  35.289736\n",
       "196  25.727621  28.236211   9.571604  57.570480\n",
       "197  13.434383  24.280476   4.162805  40.580514\n",
       "198  13.973079   6.634176   1.918399  20.631645\n",
       "199  18.004648  15.936820   6.597684  29.641836\n",
       "\n",
       "[200 rows x 4 columns]"
      ]
     },
     "execution_count": 3,
     "metadata": {},
     "output_type": "execute_result"
    }
   ],
   "source": [
    "train_0 = pd.read_csv('aux/LinRegtrain.csv').drop('Unnamed: 0', axis=1)\n",
    "test_0 = pd.read_csv('aux/LinRegtest.csv').drop('Unnamed: 0', axis=1)\n",
    "test_0"
   ]
  },
  {
   "cell_type": "code",
   "execution_count": 8,
   "id": "838fb22f",
   "metadata": {},
   "outputs": [
    {
     "name": "stdout",
     "output_type": "stream",
     "text": [
      "1.865174681370263e-14\n"
     ]
    },
    {
     "data": {
      "text/html": [
       "<div>\n",
       "<style scoped>\n",
       "    .dataframe tbody tr th:only-of-type {\n",
       "        vertical-align: middle;\n",
       "    }\n",
       "\n",
       "    .dataframe tbody tr th {\n",
       "        vertical-align: top;\n",
       "    }\n",
       "\n",
       "    .dataframe thead th {\n",
       "        text-align: right;\n",
       "    }\n",
       "</style>\n",
       "<table border=\"1\" class=\"dataframe\">\n",
       "  <thead>\n",
       "    <tr style=\"text-align: right;\">\n",
       "      <th></th>\n",
       "      <th>x1</th>\n",
       "      <th>x2</th>\n",
       "      <th>x3</th>\n",
       "    </tr>\n",
       "  </thead>\n",
       "  <tbody>\n",
       "    <tr>\n",
       "      <th>0</th>\n",
       "      <td>1.311696</td>\n",
       "      <td>0.674212</td>\n",
       "      <td>2.486236</td>\n",
       "    </tr>\n",
       "    <tr>\n",
       "      <th>1</th>\n",
       "      <td>-1.529648</td>\n",
       "      <td>-0.107172</td>\n",
       "      <td>-0.632298</td>\n",
       "    </tr>\n",
       "    <tr>\n",
       "      <th>2</th>\n",
       "      <td>-1.443237</td>\n",
       "      <td>-1.244834</td>\n",
       "      <td>1.285938</td>\n",
       "    </tr>\n",
       "    <tr>\n",
       "      <th>3</th>\n",
       "      <td>-1.076791</td>\n",
       "      <td>-0.025851</td>\n",
       "      <td>0.618876</td>\n",
       "    </tr>\n",
       "    <tr>\n",
       "      <th>4</th>\n",
       "      <td>-0.757044</td>\n",
       "      <td>-1.990140</td>\n",
       "      <td>-0.287274</td>\n",
       "    </tr>\n",
       "    <tr>\n",
       "      <th>...</th>\n",
       "      <td>...</td>\n",
       "      <td>...</td>\n",
       "      <td>...</td>\n",
       "    </tr>\n",
       "    <tr>\n",
       "      <th>195</th>\n",
       "      <td>-1.044257</td>\n",
       "      <td>-0.087573</td>\n",
       "      <td>0.631177</td>\n",
       "    </tr>\n",
       "    <tr>\n",
       "      <th>196</th>\n",
       "      <td>0.962468</td>\n",
       "      <td>1.656871</td>\n",
       "      <td>1.008525</td>\n",
       "    </tr>\n",
       "    <tr>\n",
       "      <th>197</th>\n",
       "      <td>-1.207080</td>\n",
       "      <td>0.885759</td>\n",
       "      <td>-0.136356</td>\n",
       "    </tr>\n",
       "    <tr>\n",
       "      <th>198</th>\n",
       "      <td>-1.112010</td>\n",
       "      <td>-2.554123</td>\n",
       "      <td>-0.611430</td>\n",
       "    </tr>\n",
       "    <tr>\n",
       "      <th>199</th>\n",
       "      <td>-0.400506</td>\n",
       "      <td>-0.740712</td>\n",
       "      <td>0.379035</td>\n",
       "    </tr>\n",
       "  </tbody>\n",
       "</table>\n",
       "<p>200 rows × 3 columns</p>\n",
       "</div>"
      ],
      "text/plain": [
       "           x1        x2        x3\n",
       "0    1.311696  0.674212  2.486236\n",
       "1   -1.529648 -0.107172 -0.632298\n",
       "2   -1.443237 -1.244834  1.285938\n",
       "3   -1.076791 -0.025851  0.618876\n",
       "4   -0.757044 -1.990140 -0.287274\n",
       "..        ...       ...       ...\n",
       "195 -1.044257 -0.087573  0.631177\n",
       "196  0.962468  1.656871  1.008525\n",
       "197 -1.207080  0.885759 -0.136356\n",
       "198 -1.112010 -2.554123 -0.611430\n",
       "199 -0.400506 -0.740712  0.379035\n",
       "\n",
       "[200 rows x 3 columns]"
      ]
     },
     "execution_count": 8,
     "metadata": {},
     "output_type": "execute_result"
    }
   ],
   "source": [
    "#Нормализуем обучающие данные train - приводим их к такому виду, что среднее арифметическое каждого столбца становится равно 0, а дисперсия - 1. Из каждого значения x1 вычитается одно и то же значение и полученное значение делится на дисперсию.\n",
    "# Алгоритм покажет нужные значения таргета за счет изменения свободного члена, а MSE значительно уменьшится.\n",
    "from sklearn.preprocessing import StandardScaler\n",
    "ss = StandardScaler()\n",
    "train = pd.DataFrame()\n",
    "test = pd.DataFrame()\n",
    "train[['x1', 'x2', 'x3']] = ss.fit_transform(train_0[['x1', 'x2', 'x3']] )\n",
    "train[['y']] = train_0[['y']]\n",
    "\n",
    "test[['x1', 'x2', 'x3']] = ss.transform(test_0[['x1', 'x2', 'x3']] ) # С теми же значениями трансформируем тестовую выборку\n",
    "test[['y']] = test_0[['y']]\n",
    "print(sum(train['x1']))\n",
    "test[['x1', 'x2', 'x3']]\n"
   ]
  },
  {
   "cell_type": "code",
   "execution_count": 9,
   "id": "eed86547-2b03-4edc-8b18-c6b4150c9574",
   "metadata": {},
   "outputs": [],
   "source": [
    "class LinReg:\n",
    "    def __init__(self, r_coef): #  Занесим все необходимые вещи в атрибуты класса(коэффициенты регуляризации, вид, инициализацию весов)\n",
    "        self.r_coef = r_coef  #коэффицент регуляризации\n",
    "        self.w_0 = 0\n",
    "        self.w_1 = 1\n",
    "        self.w_2 = 1\n",
    "        self.w_3 = 1\n",
    "\n",
    "#градиент (линия градиента) равна векторам частных производных: gradient1 = -2 * (X.iloc[:, 0] * error).mean()\n",
    "\n",
    "\n",
    "    def fit(self, X, y): # Реализация градиентного спуска, чтобы найти самые лучшие веса\n",
    "        for i in range(1000):\n",
    "            yhat = X.iloc[:, 0] * self.w_1 + X.iloc[:, 1] * self.w_2 + X.iloc[:, 2] * self.w_3 + self.w_0\n",
    "            error = y.to_numpy() - yhat\n",
    "            gradient1 = -2 * (X.iloc[:, 0] * error).mean()\n",
    "            gradient2 = -2 * (X.iloc[:, 1] * error).mean()\n",
    "            gradient3 = -2 * (X.iloc[:, 2] * error).mean()\n",
    "            gradient0 = -2 * error.mean()\n",
    "            self.w_1 = self.w_1 - self.r_coef * gradient1\n",
    "            self.w_2 = self.w_2 - self.r_coef * gradient2\n",
    "            self.w_3 = self.w_3 - self.r_coef * gradient3\n",
    "            self.w_0 = self.w_0 - self.r_coef * gradient0\n",
    "\n",
    "    def predict(self, X):\n",
    "        return X.iloc[:, 0] * self.w_1 + X.iloc[:, 1] * self.w_2 + X.iloc[:, 2] * self.w_3 + self.w_0\n"
   ]
  },
  {
   "cell_type": "code",
   "execution_count": 10,
   "id": "ea917b36",
   "metadata": {},
   "outputs": [
    {
     "data": {
      "text/plain": [
       "(11.667360670089087, 5.318342681639542, -14.08200198188564, 45.93671038062178)"
      ]
     },
     "execution_count": 10,
     "metadata": {},
     "output_type": "execute_result"
    }
   ],
   "source": [
    "lreg = LinReg(0.01)\n",
    "\n",
    "lreg.fit(train.iloc[:, 0:3], train.iloc[:, 3])\n",
    "\n",
    "lreg.w_1, lreg.w_2, lreg.w_3, lreg.w_0"
   ]
  },
  {
   "cell_type": "code",
   "execution_count": 11,
   "id": "6273f333",
   "metadata": {},
   "outputs": [
    {
     "data": {
      "text/plain": [
       "0      29.815258\n",
       "1      36.423810\n",
       "2       4.368910\n",
       "3      24.520905\n",
       "4      30.565150\n",
       "         ...    \n",
       "195    24.399007\n",
       "196    51.775935\n",
       "197    38.484213\n",
       "198    27.988951\n",
       "199    31.986937\n",
       "Length: 200, dtype: float64"
      ]
     },
     "execution_count": 11,
     "metadata": {},
     "output_type": "execute_result"
    }
   ],
   "source": [
    "\n",
    "c = lreg.predict(test[['x1', 'x2', 'x3']])\n",
    "c"
   ]
  },
  {
   "cell_type": "code",
   "execution_count": 12,
   "id": "3ad15567",
   "metadata": {},
   "outputs": [
    {
     "data": {
      "text/plain": [
       "(array([ 11.66736071,   5.31834268, -14.08200203]), 45.93671045793176)"
      ]
     },
     "execution_count": 12,
     "metadata": {},
     "output_type": "execute_result"
    }
   ],
   "source": [
    "from sklearn.linear_model import LinearRegression\n",
    "\n",
    "lr = LinearRegression()\n",
    "\n",
    "X, y = train[['x1','x2','x3']], train['y']\n",
    "lr.fit(X, y)\n",
    "\n",
    "lr.coef_, lr.intercept_"
   ]
  }
 ],
 "metadata": {
  "kernelspec": {
   "display_name": "elb-env",
   "language": "python",
   "name": "python3"
  },
  "language_info": {
   "codemirror_mode": {
    "name": "ipython",
    "version": 3
   },
   "file_extension": ".py",
   "mimetype": "text/x-python",
   "name": "python",
   "nbconvert_exporter": "python",
   "pygments_lexer": "ipython3",
   "version": "3.10.6"
  },
  "vscode": {
   "interpreter": {
    "hash": "1acc5386270fcafe1818af120099d8acd54316aa94eeac69504670abcb8f3ec4"
   }
  }
 },
 "nbformat": 4,
 "nbformat_minor": 5
}
